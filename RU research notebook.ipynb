{
 "cells": [
  {
   "cell_type": "markdown",
   "metadata": {},
   "source": [
    "# Проект для «Викишоп»"
   ]
  },
  {
   "cell_type": "markdown",
   "metadata": {},
   "source": [
    "Интернет-магазин «Викишоп» запускает новый сервис. Теперь пользователи могут редактировать и дополнять описания товаров, как в вики-сообществах. То есть клиенты предлагают свои правки и комментируют изменения других. Магазину нужен инструмент, который будет искать токсичные комментарии и отправлять их на модерацию. \n",
    "\n",
    "Необходимо обучить модель классифицировать комментарии на позитивные и негативные. Предоставлен набор данных с разметкой о токсичности правок.\n",
    "\n",
    "Постройть модель со значением метрики качества *F1* не меньше 0.75. "
   ]
  },
  {
   "cell_type": "markdown",
   "metadata": {},
   "source": [
    "**Описание данных**\n",
    "\n",
    "Данные находятся в файле `toxic_comments.csv`. Столбец *text* в нём содержит текст комментария, а *toxic* — целевой признак."
   ]
  },
  {
   "cell_type": "markdown",
   "metadata": {},
   "source": [
    "## Описание хода работы"
   ]
  },
  {
   "cell_type": "markdown",
   "metadata": {},
   "source": [
    "1. Загрузить и подготовить данные.\n",
    "2. Обучить разные модели. \n",
    "3. Сделайте выводы."
   ]
  },
  {
   "cell_type": "markdown",
   "metadata": {},
   "source": [
    "## Настройки рабочей тетради"
   ]
  },
  {
   "cell_type": "code",
   "execution_count": 1,
   "metadata": {},
   "outputs": [],
   "source": [
    "# Импорт библиотек\n",
    "\n",
    "import sys\n",
    "#!{sys.executable} -m spacy download en\n",
    "\n",
    "import pandas as pd\n",
    "from sklearn.feature_extraction.text import TfidfVectorizer\n",
    "from tqdm import notebook\n",
    "from tqdm import tqdm\n",
    "\n",
    "from sklearn.feature_extraction.text import CountVectorizer\n",
    "from nltk.corpus import stopwords\n",
    "from sklearn.linear_model import LogisticRegression\n",
    "from sklearn.model_selection import train_test_split\n",
    "from pymystem3 import Mystem\n",
    "from sklearn.metrics import roc_auc_score\n",
    "from sklearn.metrics import f1_score\n",
    "from sklearn.ensemble import RandomForestClassifier\n",
    "from sklearn.tree import DecisionTreeClassifier\n",
    "from lightgbm import LGBMClassifier\n",
    "\n",
    "from sqlalchemy import create_engine \n",
    "from sklearn.utils import shuffle\n",
    "from sklearn.model_selection import GridSearchCV\n",
    "from sklearn.dummy import DummyClassifier\n",
    "\n",
    "import spacy\n",
    "from sklearn.pipeline import Pipeline\n",
    "from sklearn.model_selection import cross_val_score\n",
    "from sklearn.pipeline import make_pipeline\n",
    "\n",
    "import os"
   ]
  },
  {
   "cell_type": "code",
   "execution_count": 2,
   "metadata": {},
   "outputs": [],
   "source": [
    "# Настройки библиотек\n",
    "\n",
    "pd.options.mode.chained_assignment = None  # default='warn'\n",
    " \n",
    "# Сброс ограничений на число столбцов\n",
    "pd.set_option('display.max_columns', None)"
   ]
  },
  {
   "cell_type": "code",
   "execution_count": 3,
   "metadata": {},
   "outputs": [],
   "source": [
    "# Путь к директории с данными\n",
    "\n",
    "path = 'datasets/'"
   ]
  },
  {
   "cell_type": "markdown",
   "metadata": {},
   "source": [
    "## Подготовка"
   ]
  },
  {
   "cell_type": "markdown",
   "metadata": {},
   "source": [
    "### Загрузка данных"
   ]
  },
  {
   "cell_type": "code",
   "execution_count": 4,
   "metadata": {},
   "outputs": [
    {
     "data": {
      "text/html": [
       "<div>\n",
       "<style scoped>\n",
       "    .dataframe tbody tr th:only-of-type {\n",
       "        vertical-align: middle;\n",
       "    }\n",
       "\n",
       "    .dataframe tbody tr th {\n",
       "        vertical-align: top;\n",
       "    }\n",
       "\n",
       "    .dataframe thead th {\n",
       "        text-align: right;\n",
       "    }\n",
       "</style>\n",
       "<table border=\"1\" class=\"dataframe\">\n",
       "  <thead>\n",
       "    <tr style=\"text-align: right;\">\n",
       "      <th></th>\n",
       "      <th>Unnamed: 0</th>\n",
       "      <th>text</th>\n",
       "      <th>toxic</th>\n",
       "    </tr>\n",
       "  </thead>\n",
       "  <tbody>\n",
       "    <tr>\n",
       "      <th>0</th>\n",
       "      <td>0</td>\n",
       "      <td>Explanation\\nWhy the edits made under my usern...</td>\n",
       "      <td>0</td>\n",
       "    </tr>\n",
       "    <tr>\n",
       "      <th>1</th>\n",
       "      <td>1</td>\n",
       "      <td>D'aww! He matches this background colour I'm s...</td>\n",
       "      <td>0</td>\n",
       "    </tr>\n",
       "    <tr>\n",
       "      <th>2</th>\n",
       "      <td>2</td>\n",
       "      <td>Hey man, I'm really not trying to edit war. It...</td>\n",
       "      <td>0</td>\n",
       "    </tr>\n",
       "    <tr>\n",
       "      <th>3</th>\n",
       "      <td>3</td>\n",
       "      <td>\"\\nMore\\nI can't make any real suggestions on ...</td>\n",
       "      <td>0</td>\n",
       "    </tr>\n",
       "    <tr>\n",
       "      <th>4</th>\n",
       "      <td>4</td>\n",
       "      <td>You, sir, are my hero. Any chance you remember...</td>\n",
       "      <td>0</td>\n",
       "    </tr>\n",
       "    <tr>\n",
       "      <th>...</th>\n",
       "      <td>...</td>\n",
       "      <td>...</td>\n",
       "      <td>...</td>\n",
       "    </tr>\n",
       "    <tr>\n",
       "      <th>159287</th>\n",
       "      <td>159446</td>\n",
       "      <td>\":::::And for the second time of asking, when ...</td>\n",
       "      <td>0</td>\n",
       "    </tr>\n",
       "    <tr>\n",
       "      <th>159288</th>\n",
       "      <td>159447</td>\n",
       "      <td>You should be ashamed of yourself \\n\\nThat is ...</td>\n",
       "      <td>0</td>\n",
       "    </tr>\n",
       "    <tr>\n",
       "      <th>159289</th>\n",
       "      <td>159448</td>\n",
       "      <td>Spitzer \\n\\nUmm, theres no actual article for ...</td>\n",
       "      <td>0</td>\n",
       "    </tr>\n",
       "    <tr>\n",
       "      <th>159290</th>\n",
       "      <td>159449</td>\n",
       "      <td>And it looks like it was actually you who put ...</td>\n",
       "      <td>0</td>\n",
       "    </tr>\n",
       "    <tr>\n",
       "      <th>159291</th>\n",
       "      <td>159450</td>\n",
       "      <td>\"\\nAnd ... I really don't think you understand...</td>\n",
       "      <td>0</td>\n",
       "    </tr>\n",
       "  </tbody>\n",
       "</table>\n",
       "<p>159292 rows × 3 columns</p>\n",
       "</div>"
      ],
      "text/plain": [
       "        Unnamed: 0                                               text  toxic\n",
       "0                0  Explanation\\nWhy the edits made under my usern...      0\n",
       "1                1  D'aww! He matches this background colour I'm s...      0\n",
       "2                2  Hey man, I'm really not trying to edit war. It...      0\n",
       "3                3  \"\\nMore\\nI can't make any real suggestions on ...      0\n",
       "4                4  You, sir, are my hero. Any chance you remember...      0\n",
       "...            ...                                                ...    ...\n",
       "159287      159446  \":::::And for the second time of asking, when ...      0\n",
       "159288      159447  You should be ashamed of yourself \\n\\nThat is ...      0\n",
       "159289      159448  Spitzer \\n\\nUmm, theres no actual article for ...      0\n",
       "159290      159449  And it looks like it was actually you who put ...      0\n",
       "159291      159450  \"\\nAnd ... I really don't think you understand...      0\n",
       "\n",
       "[159292 rows x 3 columns]"
      ]
     },
     "metadata": {},
     "output_type": "display_data"
    },
    {
     "name": "stdout",
     "output_type": "stream",
     "text": [
      "<class 'pandas.core.frame.DataFrame'>\n",
      "RangeIndex: 159292 entries, 0 to 159291\n",
      "Data columns (total 3 columns):\n",
      " #   Column      Non-Null Count   Dtype \n",
      "---  ------      --------------   ----- \n",
      " 0   Unnamed: 0  159292 non-null  int64 \n",
      " 1   text        159292 non-null  object\n",
      " 2   toxic       159292 non-null  int64 \n",
      "dtypes: int64(2), object(1)\n",
      "memory usage: 3.6+ MB\n"
     ]
    }
   ],
   "source": [
    "data = pd.read_csv(os.path.join(path, 'toxic_comments.csv'))\n",
    "\n",
    "display(data)\n",
    "data.info()"
   ]
  },
  {
   "cell_type": "code",
   "execution_count": 5,
   "metadata": {},
   "outputs": [
    {
     "data": {
      "text/html": [
       "<div>\n",
       "<style scoped>\n",
       "    .dataframe tbody tr th:only-of-type {\n",
       "        vertical-align: middle;\n",
       "    }\n",
       "\n",
       "    .dataframe tbody tr th {\n",
       "        vertical-align: top;\n",
       "    }\n",
       "\n",
       "    .dataframe thead th {\n",
       "        text-align: right;\n",
       "    }\n",
       "</style>\n",
       "<table border=\"1\" class=\"dataframe\">\n",
       "  <thead>\n",
       "    <tr style=\"text-align: right;\">\n",
       "      <th></th>\n",
       "      <th>text</th>\n",
       "      <th>toxic</th>\n",
       "    </tr>\n",
       "  </thead>\n",
       "  <tbody>\n",
       "    <tr>\n",
       "      <th>0</th>\n",
       "      <td>Explanation\\nWhy the edits made under my usern...</td>\n",
       "      <td>0</td>\n",
       "    </tr>\n",
       "    <tr>\n",
       "      <th>1</th>\n",
       "      <td>D'aww! He matches this background colour I'm s...</td>\n",
       "      <td>0</td>\n",
       "    </tr>\n",
       "    <tr>\n",
       "      <th>2</th>\n",
       "      <td>Hey man, I'm really not trying to edit war. It...</td>\n",
       "      <td>0</td>\n",
       "    </tr>\n",
       "    <tr>\n",
       "      <th>3</th>\n",
       "      <td>\"\\nMore\\nI can't make any real suggestions on ...</td>\n",
       "      <td>0</td>\n",
       "    </tr>\n",
       "    <tr>\n",
       "      <th>4</th>\n",
       "      <td>You, sir, are my hero. Any chance you remember...</td>\n",
       "      <td>0</td>\n",
       "    </tr>\n",
       "    <tr>\n",
       "      <th>...</th>\n",
       "      <td>...</td>\n",
       "      <td>...</td>\n",
       "    </tr>\n",
       "    <tr>\n",
       "      <th>159287</th>\n",
       "      <td>\":::::And for the second time of asking, when ...</td>\n",
       "      <td>0</td>\n",
       "    </tr>\n",
       "    <tr>\n",
       "      <th>159288</th>\n",
       "      <td>You should be ashamed of yourself \\n\\nThat is ...</td>\n",
       "      <td>0</td>\n",
       "    </tr>\n",
       "    <tr>\n",
       "      <th>159289</th>\n",
       "      <td>Spitzer \\n\\nUmm, theres no actual article for ...</td>\n",
       "      <td>0</td>\n",
       "    </tr>\n",
       "    <tr>\n",
       "      <th>159290</th>\n",
       "      <td>And it looks like it was actually you who put ...</td>\n",
       "      <td>0</td>\n",
       "    </tr>\n",
       "    <tr>\n",
       "      <th>159291</th>\n",
       "      <td>\"\\nAnd ... I really don't think you understand...</td>\n",
       "      <td>0</td>\n",
       "    </tr>\n",
       "  </tbody>\n",
       "</table>\n",
       "<p>159292 rows × 2 columns</p>\n",
       "</div>"
      ],
      "text/plain": [
       "                                                     text  toxic\n",
       "0       Explanation\\nWhy the edits made under my usern...      0\n",
       "1       D'aww! He matches this background colour I'm s...      0\n",
       "2       Hey man, I'm really not trying to edit war. It...      0\n",
       "3       \"\\nMore\\nI can't make any real suggestions on ...      0\n",
       "4       You, sir, are my hero. Any chance you remember...      0\n",
       "...                                                   ...    ...\n",
       "159287  \":::::And for the second time of asking, when ...      0\n",
       "159288  You should be ashamed of yourself \\n\\nThat is ...      0\n",
       "159289  Spitzer \\n\\nUmm, theres no actual article for ...      0\n",
       "159290  And it looks like it was actually you who put ...      0\n",
       "159291  \"\\nAnd ... I really don't think you understand...      0\n",
       "\n",
       "[159292 rows x 2 columns]"
      ]
     },
     "execution_count": 5,
     "metadata": {},
     "output_type": "execute_result"
    }
   ],
   "source": [
    "data = data.drop('Unnamed: 0', axis=1)\n",
    "data"
   ]
  },
  {
   "cell_type": "markdown",
   "metadata": {},
   "source": [
    "<b>Вывод</b>\n",
    "\n",
    "В исходных данных был столбец с индексами от предыдущей базы данных, некоторые значения в котором пропущены. Для обучаемых моделей в нем не было смысла, поэтому его удалили.\n",
    "\n",
    "Полученные данные довольно громоздкие, больше 150000 строк."
   ]
  },
  {
   "cell_type": "markdown",
   "metadata": {},
   "source": [
    "### Подготовка выборок"
   ]
  },
  {
   "cell_type": "markdown",
   "metadata": {},
   "source": [
    "- лемматизация\n",
    "- создание признаков, а именно TF-IDF\n",
    "- разделение на обучающую и тестовую выборки"
   ]
  },
  {
   "cell_type": "code",
   "execution_count": 6,
   "metadata": {},
   "outputs": [
    {
     "data": {
      "application/vnd.jupyter.widget-view+json": {
       "model_id": "24573677624b4566af7345a0ea6dde8d",
       "version_major": 2,
       "version_minor": 0
      },
      "text/plain": [
       "  0%|          | 0/159292 [00:00<?, ?it/s]"
      ]
     },
     "metadata": {},
     "output_type": "display_data"
    },
    {
     "data": {
      "text/html": [
       "<div>\n",
       "<style scoped>\n",
       "    .dataframe tbody tr th:only-of-type {\n",
       "        vertical-align: middle;\n",
       "    }\n",
       "\n",
       "    .dataframe tbody tr th {\n",
       "        vertical-align: top;\n",
       "    }\n",
       "\n",
       "    .dataframe thead th {\n",
       "        text-align: right;\n",
       "    }\n",
       "</style>\n",
       "<table border=\"1\" class=\"dataframe\">\n",
       "  <thead>\n",
       "    <tr style=\"text-align: right;\">\n",
       "      <th></th>\n",
       "      <th>text</th>\n",
       "      <th>toxic</th>\n",
       "      <th>lemm_text</th>\n",
       "    </tr>\n",
       "  </thead>\n",
       "  <tbody>\n",
       "    <tr>\n",
       "      <th>0</th>\n",
       "      <td>Explanation\\nWhy the edits made under my usern...</td>\n",
       "      <td>0</td>\n",
       "      <td>Explanation \\n why the edit make under my user...</td>\n",
       "    </tr>\n",
       "    <tr>\n",
       "      <th>1</th>\n",
       "      <td>D'aww! He matches this background colour I'm s...</td>\n",
       "      <td>0</td>\n",
       "      <td>D'aww ! he match this background colour I be s...</td>\n",
       "    </tr>\n",
       "    <tr>\n",
       "      <th>2</th>\n",
       "      <td>Hey man, I'm really not trying to edit war. It...</td>\n",
       "      <td>0</td>\n",
       "      <td>hey man , I be really not try to edit war . it...</td>\n",
       "    </tr>\n",
       "    <tr>\n",
       "      <th>3</th>\n",
       "      <td>\"\\nMore\\nI can't make any real suggestions on ...</td>\n",
       "      <td>0</td>\n",
       "      <td>\" \\n More \\n I can not make any real suggestio...</td>\n",
       "    </tr>\n",
       "    <tr>\n",
       "      <th>4</th>\n",
       "      <td>You, sir, are my hero. Any chance you remember...</td>\n",
       "      <td>0</td>\n",
       "      <td>you , sir , be my hero . any chance you rememb...</td>\n",
       "    </tr>\n",
       "    <tr>\n",
       "      <th>...</th>\n",
       "      <td>...</td>\n",
       "      <td>...</td>\n",
       "      <td>...</td>\n",
       "    </tr>\n",
       "    <tr>\n",
       "      <th>159287</th>\n",
       "      <td>\":::::And for the second time of asking, when ...</td>\n",
       "      <td>0</td>\n",
       "      <td>\" : : : : : and for the second time of asking ...</td>\n",
       "    </tr>\n",
       "    <tr>\n",
       "      <th>159288</th>\n",
       "      <td>You should be ashamed of yourself \\n\\nThat is ...</td>\n",
       "      <td>0</td>\n",
       "      <td>you should be ashamed of yourself \\n\\n that be...</td>\n",
       "    </tr>\n",
       "    <tr>\n",
       "      <th>159289</th>\n",
       "      <td>Spitzer \\n\\nUmm, theres no actual article for ...</td>\n",
       "      <td>0</td>\n",
       "      <td>Spitzer \\n\\n Umm , there s no actual article f...</td>\n",
       "    </tr>\n",
       "    <tr>\n",
       "      <th>159290</th>\n",
       "      <td>And it looks like it was actually you who put ...</td>\n",
       "      <td>0</td>\n",
       "      <td>and it look like it be actually you who put on...</td>\n",
       "    </tr>\n",
       "    <tr>\n",
       "      <th>159291</th>\n",
       "      <td>\"\\nAnd ... I really don't think you understand...</td>\n",
       "      <td>0</td>\n",
       "      <td>\" \\n and ... I really do not think you underst...</td>\n",
       "    </tr>\n",
       "  </tbody>\n",
       "</table>\n",
       "<p>159292 rows × 3 columns</p>\n",
       "</div>"
      ],
      "text/plain": [
       "                                                     text  toxic  \\\n",
       "0       Explanation\\nWhy the edits made under my usern...      0   \n",
       "1       D'aww! He matches this background colour I'm s...      0   \n",
       "2       Hey man, I'm really not trying to edit war. It...      0   \n",
       "3       \"\\nMore\\nI can't make any real suggestions on ...      0   \n",
       "4       You, sir, are my hero. Any chance you remember...      0   \n",
       "...                                                   ...    ...   \n",
       "159287  \":::::And for the second time of asking, when ...      0   \n",
       "159288  You should be ashamed of yourself \\n\\nThat is ...      0   \n",
       "159289  Spitzer \\n\\nUmm, theres no actual article for ...      0   \n",
       "159290  And it looks like it was actually you who put ...      0   \n",
       "159291  \"\\nAnd ... I really don't think you understand...      0   \n",
       "\n",
       "                                                lemm_text  \n",
       "0       Explanation \\n why the edit make under my user...  \n",
       "1       D'aww ! he match this background colour I be s...  \n",
       "2       hey man , I be really not try to edit war . it...  \n",
       "3       \" \\n More \\n I can not make any real suggestio...  \n",
       "4       you , sir , be my hero . any chance you rememb...  \n",
       "...                                                   ...  \n",
       "159287  \" : : : : : and for the second time of asking ...  \n",
       "159288  you should be ashamed of yourself \\n\\n that be...  \n",
       "159289  Spitzer \\n\\n Umm , there s no actual article f...  \n",
       "159290  and it look like it be actually you who put on...  \n",
       "159291  \" \\n and ... I really do not think you underst...  \n",
       "\n",
       "[159292 rows x 3 columns]"
      ]
     },
     "execution_count": 6,
     "metadata": {},
     "output_type": "execute_result"
    }
   ],
   "source": [
    "nlp = spacy.load(\"en_core_web_sm\", disable=['parser', 'ner'])\n",
    "for_lemm = []\n",
    "\n",
    "\n",
    "for i in notebook.tqdm(data.index):\n",
    "    doc = nlp(data.loc[i, 'text'])\n",
    "    for_lemm.append(\" \".join([token.lemma_ for token in doc]))\n",
    "    \n",
    "data['lemm_text'] = for_lemm\n",
    "data\n"
   ]
  },
  {
   "cell_type": "code",
   "execution_count": 7,
   "metadata": {},
   "outputs": [],
   "source": [
    "train, test = train_test_split(data, test_size=0.1)"
   ]
  },
  {
   "cell_type": "code",
   "execution_count": 8,
   "metadata": {},
   "outputs": [],
   "source": [
    "features_train = train['lemm_text']\n",
    "target_train = train['toxic']\n",
    "\n",
    "feautures_test = test['lemm_text']\n",
    "target_test = test['toxic']"
   ]
  },
  {
   "cell_type": "code",
   "execution_count": 9,
   "metadata": {},
   "outputs": [],
   "source": [
    "stopwords = set(stopwords.words('english'))\n",
    "\n",
    "count_tf_idf = TfidfVectorizer(stop_words=stopwords)\n",
    "count_tf_idf.fit(train['lemm_text'])\n",
    "\n",
    "#features_train = count_tf_idf.transform(train['lemm_text'])\n",
    "features_test = count_tf_idf.transform(test['lemm_text'])"
   ]
  },
  {
   "cell_type": "markdown",
   "metadata": {},
   "source": [
    "Так как исходные данные довольно большие, имеет смысл почистить память от ненужных нам данных."
   ]
  },
  {
   "cell_type": "code",
   "execution_count": 10,
   "metadata": {},
   "outputs": [],
   "source": [
    "del for_lemm\n",
    "del data\n",
    "#del train\n",
    "del test"
   ]
  },
  {
   "cell_type": "markdown",
   "metadata": {},
   "source": [
    "## Обучение"
   ]
  },
  {
   "cell_type": "code",
   "execution_count": 11,
   "metadata": {},
   "outputs": [],
   "source": [
    "# Создание списков для хранения результатов моделей\n",
    "\n",
    "final_score_list =[]"
   ]
  },
  {
   "cell_type": "code",
   "execution_count": 12,
   "metadata": {},
   "outputs": [],
   "source": [
    "def print_result(grid, label=''):\n",
    "    '''Функция вывода параметров и значений контрольных метрик'''\n",
    "    \n",
    "    print(label)\n",
    "    print('Подобранные параметры:')\n",
    "    print(grid.best_params_)\n",
    "    print('F1-метрика на обучающей выборке:', grid.best_score_ )\n",
    "\n",
    "    predictions = grid.predict(features_test)\n",
    "    f1_test = f1_score(target_test, predictions)\n",
    "    print('F1-метрика на тестовой выборке:', f1_test )\n",
    "\n",
    "    roc = roc_auc_score(target_test, predictions)\n",
    "    auc_list.append(roc)\n",
    "    print('AUC-ROC:', roc)"
   ]
  },
  {
   "cell_type": "markdown",
   "metadata": {},
   "source": [
    "### Модели классификации sklearn"
   ]
  },
  {
   "cell_type": "code",
   "execution_count": 13,
   "metadata": {},
   "outputs": [],
   "source": [
    "linear_pipeline = Pipeline(\n",
    "    [\n",
    "        (\"vect\", TfidfVectorizer(stop_words=stopwords)),\n",
    "        (\"linear\", LogisticRegression(max_iter=1000, C=10)),\n",
    "    ]\n",
    ")"
   ]
  },
  {
   "cell_type": "code",
   "execution_count": 14,
   "metadata": {},
   "outputs": [
    {
     "name": "stdout",
     "output_type": "stream",
     "text": [
      "Средняя оценка качества модели: 0.7739598295414537\n"
     ]
    }
   ],
   "source": [
    "scores = cross_val_score(linear_pipeline, features_train, target_train, cv=3, scoring='f1')\n",
    "final_score = scores.mean()\n",
    "\n",
    "print('Средняя оценка качества модели:', final_score)\n",
    "final_score_list.append(final_score)"
   ]
  },
  {
   "cell_type": "code",
   "execution_count": 15,
   "metadata": {},
   "outputs": [],
   "source": [
    "# Decision Tree Classifier\n",
    "\n",
    "dtc_pipeline = Pipeline(\n",
    "    [\n",
    "        (\"vect\", TfidfVectorizer(stop_words=stopwords)),\n",
    "        (\"dtc\", DecisionTreeClassifier(random_state=123)),\n",
    "    ]\n",
    ")"
   ]
  },
  {
   "cell_type": "code",
   "execution_count": 16,
   "metadata": {},
   "outputs": [
    {
     "name": "stdout",
     "output_type": "stream",
     "text": [
      "Fitting 3 folds for each of 3 candidates, totalling 9 fits\n",
      "Средняя оценка качества модели дерева решений: 0.6379121507610183\n"
     ]
    }
   ],
   "source": [
    "params = {\n",
    "    'dtc__max_depth': [15, 50, 80],\n",
    "    'dtc__class_weight':['balanced']\n",
    "}\n",
    "\n",
    "grid_dt = GridSearchCV(dtc_pipeline, params, n_jobs=-1, scoring = 'f1', verbose=3, cv=3)\n",
    "grid_dt.fit(features_train, target_train)\n",
    "#print_result(grid_dt, 'Decision Tree Classifier')\n",
    "\n",
    "print('Средняя оценка качества модели дерева решений:', grid_dt.best_score_)\n",
    "final_score_list.append(grid_dt.best_score_)"
   ]
  },
  {
   "cell_type": "markdown",
   "metadata": {},
   "source": [
    "<b>Вывод</b>\n",
    "\n",
    "Модель логистической регрессии уже выдаёт высокое значение метрики f1.\n",
    "\n",
    "У модели дерева решений уже на старте довольно малое значение метрики f1. Маловероятно, что получится поднять это значение до нужного по условия путём перебора гиперпараметров. "
   ]
  },
  {
   "cell_type": "markdown",
   "metadata": {},
   "source": [
    "### Модели LGBMClassifier"
   ]
  },
  {
   "cell_type": "code",
   "execution_count": 17,
   "metadata": {},
   "outputs": [
    {
     "name": "stdout",
     "output_type": "stream",
     "text": [
      "Fitting 3 folds for each of 3 candidates, totalling 9 fits\n",
      "Средняя оценка качества модели градиентного бустинга: 0.7329448887393131\n"
     ]
    }
   ],
   "source": [
    "# LGBMClassifier\n",
    "\n",
    "lgb_pipeline = Pipeline(\n",
    "    [\n",
    "        (\"vect\", TfidfVectorizer(stop_words=stopwords)),\n",
    "        (\"lgb\", LGBMClassifier(random_state=123)),\n",
    "    ]\n",
    ")\n",
    "\n",
    "params = {\n",
    "    'lgb__max_depth': [80],\n",
    "    'lgb__n_estimators': [15, 50, 80],\n",
    "    'lgb__class_weight':['balanced']\n",
    "}\n",
    "\n",
    "grid_dt = GridSearchCV(lgb_pipeline, params, n_jobs=-1, scoring = 'f1', verbose=3, cv=3)\n",
    "grid_dt.fit(features_train, target_train)\n",
    "#print_result(grid_dt, 'Decision Tree Classifier')\n",
    "\n",
    "print('Средняя оценка качества модели градиентного бустинга:', grid_dt.best_score_)\n",
    "final_score_list.append(grid_dt.best_score_)"
   ]
  },
  {
   "cell_type": "markdown",
   "metadata": {},
   "source": [
    "Модели LGBMClassifier не хватает немного до нужного значения."
   ]
  },
  {
   "cell_type": "markdown",
   "metadata": {},
   "source": [
    "<b>Вывод</b>\n",
    "\n",
    "При довольно больших параметрах и после длительного обучения модели, нужное значение метрики f1 достигнуто, однако стоит отметить тот факт, что значение контрольной метрики на тестовой выборке больше чем на обучающей, вызывает вопросы."
   ]
  },
  {
   "cell_type": "markdown",
   "metadata": {},
   "source": [
    "## Сравнение моделей"
   ]
  },
  {
   "cell_type": "code",
   "execution_count": 18,
   "metadata": {},
   "outputs": [
    {
     "data": {
      "text/html": [
       "<div>\n",
       "<style scoped>\n",
       "    .dataframe tbody tr th:only-of-type {\n",
       "        vertical-align: middle;\n",
       "    }\n",
       "\n",
       "    .dataframe tbody tr th {\n",
       "        vertical-align: top;\n",
       "    }\n",
       "\n",
       "    .dataframe thead th {\n",
       "        text-align: right;\n",
       "    }\n",
       "</style>\n",
       "<table border=\"1\" class=\"dataframe\">\n",
       "  <thead>\n",
       "    <tr style=\"text-align: right;\">\n",
       "      <th></th>\n",
       "      <th>model</th>\n",
       "      <th>F1_train</th>\n",
       "    </tr>\n",
       "  </thead>\n",
       "  <tbody>\n",
       "    <tr>\n",
       "      <th>0</th>\n",
       "      <td>LogisticRegression</td>\n",
       "      <td>0.773960</td>\n",
       "    </tr>\n",
       "    <tr>\n",
       "      <th>1</th>\n",
       "      <td>Decision Tree Classifier</td>\n",
       "      <td>0.637912</td>\n",
       "    </tr>\n",
       "    <tr>\n",
       "      <th>2</th>\n",
       "      <td>LGBMClassifier</td>\n",
       "      <td>0.732945</td>\n",
       "    </tr>\n",
       "  </tbody>\n",
       "</table>\n",
       "</div>"
      ],
      "text/plain": [
       "                      model  F1_train\n",
       "0        LogisticRegression  0.773960\n",
       "1  Decision Tree Classifier  0.637912\n",
       "2            LGBMClassifier  0.732945"
      ]
     },
     "metadata": {},
     "output_type": "display_data"
    }
   ],
   "source": [
    "compare_models = pd.DataFrame()\n",
    "compare_models['model'] = ['LogisticRegression', 'Decision Tree Classifier','LGBMClassifier']\n",
    "compare_models['F1_train'] = final_score_list\n",
    "display(compare_models)"
   ]
  },
  {
   "cell_type": "markdown",
   "metadata": {},
   "source": [
    "Очевидно, что наилучшая модель, судя по метрике f1, это модель логистической регрессии"
   ]
  },
  {
   "cell_type": "code",
   "execution_count": 19,
   "metadata": {},
   "outputs": [
    {
     "name": "stdout",
     "output_type": "stream",
     "text": [
      "f1 лучше модели на тестовой выборке равно 0.7879432624113475\n"
     ]
    }
   ],
   "source": [
    "#LogisticRegression\n",
    "\n",
    "model = LogisticRegression(max_iter=1000, C=10)\n",
    "\n",
    "features_train = count_tf_idf.transform(train['lemm_text'])\n",
    "model.fit(features_train, target_train)\n",
    "predictions = model.predict(features_test)\n",
    "\n",
    "result = f1_score(target_test, predictions)\n",
    "print('f1 лучше модели на тестовой выборке равно', result)"
   ]
  },
  {
   "cell_type": "markdown",
   "metadata": {},
   "source": [
    "<b>Вывод</b>\n",
    "\n",
    "Нужное значение на тестовой выборке получено. Наилучшая модель - LogisticRegression"
   ]
  },
  {
   "cell_type": "markdown",
   "metadata": {},
   "source": [
    "## Выводы"
   ]
  },
  {
   "cell_type": "markdown",
   "metadata": {},
   "source": [
    "1. Данные подготовлены, выделен TF-IDF как признак для обучения моделей.\n",
    "2. Обучены различные модели из библиотек sklearn и lightgbm, подобраны нужные гиперпараметры для получения нужного значения контрольной метрики.\n",
    "3. Заданное по условию значение метрики f1, >0.75, получено"
   ]
  }
 ],
 "metadata": {
  "ExecuteTimeLog": [
   {
    "duration": 1362,
    "start_time": "2022-12-13T21:41:29.361Z"
   },
   {
    "duration": 119,
    "start_time": "2022-12-13T21:42:07.868Z"
   },
   {
    "duration": 1143,
    "start_time": "2022-12-13T21:42:11.748Z"
   },
   {
    "duration": 809,
    "start_time": "2022-12-13T21:42:20.445Z"
   },
   {
    "duration": 804,
    "start_time": "2022-12-13T21:42:40.047Z"
   },
   {
    "duration": 749,
    "start_time": "2022-12-13T21:42:52.887Z"
   },
   {
    "duration": 27,
    "start_time": "2022-12-13T21:43:14.052Z"
   },
   {
    "duration": 16,
    "start_time": "2022-12-13T21:43:18.677Z"
   },
   {
    "duration": 13,
    "start_time": "2022-12-13T21:43:30.236Z"
   },
   {
    "duration": 17,
    "start_time": "2022-12-13T21:43:40.326Z"
   },
   {
    "duration": 3,
    "start_time": "2022-12-13T21:44:45.308Z"
   },
   {
    "duration": 23,
    "start_time": "2022-12-13T21:45:16.563Z"
   },
   {
    "duration": 21,
    "start_time": "2022-12-13T21:47:41.493Z"
   },
   {
    "duration": 1338,
    "start_time": "2022-12-13T21:48:11.304Z"
   },
   {
    "duration": 922,
    "start_time": "2022-12-13T21:48:12.644Z"
   },
   {
    "duration": 28,
    "start_time": "2022-12-13T21:48:13.568Z"
   },
   {
    "duration": 1880,
    "start_time": "2022-12-13T21:48:16.637Z"
   },
   {
    "duration": 130,
    "start_time": "2022-12-13T21:49:16.234Z"
   },
   {
    "duration": 1377,
    "start_time": "2022-12-13T21:50:37.319Z"
   },
   {
    "duration": 1315,
    "start_time": "2022-12-13T21:50:38.698Z"
   },
   {
    "duration": 23,
    "start_time": "2022-12-13T21:50:40.015Z"
   },
   {
    "duration": 1922,
    "start_time": "2022-12-13T21:50:40.041Z"
   },
   {
    "duration": 136,
    "start_time": "2022-12-13T21:50:43.541Z"
   },
   {
    "duration": 5,
    "start_time": "2022-12-13T21:51:21.013Z"
   },
   {
    "duration": 40,
    "start_time": "2022-12-13T21:52:09.444Z"
   },
   {
    "duration": 4,
    "start_time": "2022-12-13T21:52:10.726Z"
   },
   {
    "duration": 17,
    "start_time": "2022-12-13T21:52:11.902Z"
   },
   {
    "duration": 1314,
    "start_time": "2022-12-13T21:56:03.384Z"
   },
   {
    "duration": 914,
    "start_time": "2022-12-13T21:56:04.700Z"
   },
   {
    "duration": 21,
    "start_time": "2022-12-13T21:56:05.616Z"
   },
   {
    "duration": 34,
    "start_time": "2022-12-13T21:56:05.639Z"
   },
   {
    "duration": 23,
    "start_time": "2022-12-13T21:56:05.675Z"
   },
   {
    "duration": 388247,
    "start_time": "2022-12-13T21:56:05.700Z"
   },
   {
    "duration": 0,
    "start_time": "2022-12-13T22:02:33.949Z"
   },
   {
    "duration": 0,
    "start_time": "2022-12-13T22:02:33.950Z"
   },
   {
    "duration": 0,
    "start_time": "2022-12-13T22:02:33.951Z"
   },
   {
    "duration": 14,
    "start_time": "2022-12-13T22:02:51.613Z"
   },
   {
    "duration": 24,
    "start_time": "2022-12-13T22:02:52.766Z"
   },
   {
    "duration": 3,
    "start_time": "2022-12-13T22:02:53.791Z"
   },
   {
    "duration": 82419,
    "start_time": "2022-12-13T22:02:55.381Z"
   },
   {
    "duration": 69967,
    "start_time": "2022-12-13T22:05:08.366Z"
   },
   {
    "duration": 6099,
    "start_time": "2022-12-13T22:07:06.526Z"
   },
   {
    "duration": 3,
    "start_time": "2022-12-13T22:07:26.118Z"
   },
   {
    "duration": 7,
    "start_time": "2022-12-13T22:07:28.919Z"
   },
   {
    "duration": 395,
    "start_time": "2022-12-13T22:07:30.646Z"
   },
   {
    "duration": 3190,
    "start_time": "2022-12-13T22:07:32.509Z"
   },
   {
    "duration": 3,
    "start_time": "2022-12-13T22:08:52.429Z"
   },
   {
    "duration": 11,
    "start_time": "2022-12-13T22:08:53.789Z"
   },
   {
    "duration": 1351,
    "start_time": "2022-12-13T22:10:21.679Z"
   },
   {
    "duration": 887,
    "start_time": "2022-12-13T22:10:23.032Z"
   },
   {
    "duration": 22,
    "start_time": "2022-12-13T22:10:23.921Z"
   },
   {
    "duration": 9,
    "start_time": "2022-12-13T22:10:23.945Z"
   },
   {
    "duration": 5,
    "start_time": "2022-12-13T22:10:23.956Z"
   },
   {
    "duration": 9,
    "start_time": "2022-12-13T22:10:23.963Z"
   },
   {
    "duration": 6032,
    "start_time": "2022-12-13T22:10:27.111Z"
   },
   {
    "duration": 3,
    "start_time": "2022-12-13T22:10:35.133Z"
   },
   {
    "duration": 6,
    "start_time": "2022-12-13T22:10:35.776Z"
   },
   {
    "duration": 4,
    "start_time": "2022-12-13T22:10:36.191Z"
   },
   {
    "duration": 438,
    "start_time": "2022-12-13T22:10:37.591Z"
   },
   {
    "duration": 4,
    "start_time": "2022-12-13T22:11:30.125Z"
   },
   {
    "duration": 1556,
    "start_time": "2022-12-13T22:11:57.943Z"
   },
   {
    "duration": 1350,
    "start_time": "2022-12-13T22:12:12.660Z"
   },
   {
    "duration": 885,
    "start_time": "2022-12-13T22:12:14.012Z"
   },
   {
    "duration": 22,
    "start_time": "2022-12-13T22:12:14.898Z"
   },
   {
    "duration": 4,
    "start_time": "2022-12-13T22:12:14.922Z"
   },
   {
    "duration": 38,
    "start_time": "2022-12-13T22:12:14.928Z"
   },
   {
    "duration": 7,
    "start_time": "2022-12-13T22:12:14.968Z"
   },
   {
    "duration": 965569,
    "start_time": "2022-12-13T22:12:14.977Z"
   },
   {
    "duration": 5,
    "start_time": "2022-12-13T22:28:20.547Z"
   },
   {
    "duration": 82,
    "start_time": "2022-12-13T22:28:20.553Z"
   },
   {
    "duration": 3,
    "start_time": "2022-12-13T22:28:20.638Z"
   },
   {
    "duration": 14080,
    "start_time": "2022-12-13T22:28:20.643Z"
   },
   {
    "duration": 52582,
    "start_time": "2022-12-13T22:28:34.725Z"
   },
   {
    "duration": 4,
    "start_time": "2022-12-13T22:34:49.129Z"
   },
   {
    "duration": 102,
    "start_time": "2022-12-13T22:35:06.257Z"
   },
   {
    "duration": 128,
    "start_time": "2022-12-13T22:36:00.513Z"
   },
   {
    "duration": 189,
    "start_time": "2022-12-13T22:36:19.042Z"
   },
   {
    "duration": 51615,
    "start_time": "2022-12-13T22:36:23.481Z"
   },
   {
    "duration": 79158,
    "start_time": "2022-12-13T23:05:06.365Z"
   },
   {
    "duration": 0,
    "start_time": "2022-12-13T23:06:25.526Z"
   },
   {
    "duration": 1571,
    "start_time": "2022-12-13T23:07:00.168Z"
   },
   {
    "duration": 937,
    "start_time": "2022-12-13T23:07:01.741Z"
   },
   {
    "duration": 29,
    "start_time": "2022-12-13T23:07:02.679Z"
   },
   {
    "duration": 3,
    "start_time": "2022-12-13T23:07:02.710Z"
   },
   {
    "duration": 40,
    "start_time": "2022-12-13T23:07:02.715Z"
   },
   {
    "duration": 6,
    "start_time": "2022-12-13T23:07:02.756Z"
   },
   {
    "duration": 199,
    "start_time": "2022-12-13T23:07:02.764Z"
   },
   {
    "duration": 1,
    "start_time": "2022-12-13T23:07:02.964Z"
   },
   {
    "duration": 0,
    "start_time": "2022-12-13T23:07:02.966Z"
   },
   {
    "duration": 0,
    "start_time": "2022-12-13T23:07:02.967Z"
   },
   {
    "duration": 0,
    "start_time": "2022-12-13T23:07:02.969Z"
   },
   {
    "duration": 0,
    "start_time": "2022-12-13T23:07:02.969Z"
   },
   {
    "duration": 0,
    "start_time": "2022-12-13T23:07:02.970Z"
   },
   {
    "duration": 0,
    "start_time": "2022-12-13T23:07:02.971Z"
   },
   {
    "duration": 1110154,
    "start_time": "2022-12-13T23:07:32.143Z"
   },
   {
    "duration": 66,
    "start_time": "2022-12-13T23:26:26.191Z"
   },
   {
    "duration": 3,
    "start_time": "2022-12-13T23:26:27.558Z"
   },
   {
    "duration": 13668,
    "start_time": "2022-12-13T23:26:33.639Z"
   },
   {
    "duration": 50093,
    "start_time": "2022-12-13T23:26:52.708Z"
   },
   {
    "duration": 51960,
    "start_time": "2022-12-13T23:28:06.199Z"
   },
   {
    "duration": 35,
    "start_time": "2022-12-13T23:29:12.440Z"
   },
   {
    "duration": 4,
    "start_time": "2022-12-13T23:29:34.184Z"
   },
   {
    "duration": 26,
    "start_time": "2022-12-13T23:29:37.840Z"
   },
   {
    "duration": 1190193,
    "start_time": "2022-12-13T23:30:26.872Z"
   },
   {
    "duration": 1486,
    "start_time": "2022-12-13T23:54:19.695Z"
   },
   {
    "duration": 867,
    "start_time": "2022-12-13T23:54:21.183Z"
   },
   {
    "duration": 20,
    "start_time": "2022-12-13T23:54:22.052Z"
   },
   {
    "duration": 6,
    "start_time": "2022-12-13T23:54:22.074Z"
   },
   {
    "duration": 3,
    "start_time": "2022-12-13T23:54:22.096Z"
   },
   {
    "duration": 4,
    "start_time": "2022-12-13T23:54:22.100Z"
   },
   {
    "duration": 93726,
    "start_time": "2022-12-13T23:54:22.106Z"
   },
   {
    "duration": 2,
    "start_time": "2022-12-13T23:55:55.833Z"
   },
   {
    "duration": 86,
    "start_time": "2022-12-13T23:55:55.837Z"
   },
   {
    "duration": 4,
    "start_time": "2022-12-13T23:55:55.927Z"
   },
   {
    "duration": 4661,
    "start_time": "2022-12-13T23:55:55.932Z"
   },
   {
    "duration": 0,
    "start_time": "2022-12-13T23:56:00.595Z"
   },
   {
    "duration": 0,
    "start_time": "2022-12-13T23:56:00.596Z"
   },
   {
    "duration": 0,
    "start_time": "2022-12-13T23:56:00.597Z"
   },
   {
    "duration": 0,
    "start_time": "2022-12-13T23:56:00.599Z"
   },
   {
    "duration": 0,
    "start_time": "2022-12-13T23:56:00.599Z"
   },
   {
    "duration": 11,
    "start_time": "2022-12-13T23:56:02.571Z"
   },
   {
    "duration": 2,
    "start_time": "2022-12-13T23:56:06.325Z"
   },
   {
    "duration": 36,
    "start_time": "2022-12-13T23:56:06.627Z"
   },
   {
    "duration": 6,
    "start_time": "2022-12-13T23:56:06.852Z"
   },
   {
    "duration": 10,
    "start_time": "2022-12-13T23:56:07.276Z"
   },
   {
    "duration": 1475,
    "start_time": "2022-12-13T23:56:23.033Z"
   },
   {
    "duration": 881,
    "start_time": "2022-12-13T23:56:24.510Z"
   },
   {
    "duration": 20,
    "start_time": "2022-12-13T23:56:25.397Z"
   },
   {
    "duration": 9,
    "start_time": "2022-12-13T23:56:25.419Z"
   },
   {
    "duration": 11,
    "start_time": "2022-12-13T23:56:25.430Z"
   },
   {
    "duration": 6,
    "start_time": "2022-12-13T23:56:25.443Z"
   },
   {
    "duration": 93703,
    "start_time": "2022-12-13T23:56:25.451Z"
   },
   {
    "duration": 2,
    "start_time": "2022-12-13T23:57:59.156Z"
   },
   {
    "duration": 75,
    "start_time": "2022-12-13T23:57:59.160Z"
   },
   {
    "duration": 3,
    "start_time": "2022-12-13T23:57:59.238Z"
   },
   {
    "duration": 12904,
    "start_time": "2022-12-13T23:57:59.242Z"
   },
   {
    "duration": 14,
    "start_time": "2022-12-13T23:58:12.147Z"
   },
   {
    "duration": 44436,
    "start_time": "2022-12-13T23:58:12.163Z"
   },
   {
    "duration": 1699,
    "start_time": "2022-12-14T08:39:52.080Z"
   },
   {
    "duration": 1458,
    "start_time": "2022-12-14T08:39:53.781Z"
   },
   {
    "duration": 22,
    "start_time": "2022-12-14T08:39:55.241Z"
   },
   {
    "duration": 2270,
    "start_time": "2022-12-14T08:39:55.266Z"
   },
   {
    "duration": 795,
    "start_time": "2022-12-14T08:39:57.538Z"
   },
   {
    "duration": 16,
    "start_time": "2022-12-14T08:39:58.335Z"
   },
   {
    "duration": 114706,
    "start_time": "2022-12-14T08:39:58.354Z"
   },
   {
    "duration": 2,
    "start_time": "2022-12-14T08:41:53.063Z"
   },
   {
    "duration": 72,
    "start_time": "2022-12-14T08:41:53.067Z"
   },
   {
    "duration": 15,
    "start_time": "2022-12-14T08:41:53.142Z"
   },
   {
    "duration": 14520,
    "start_time": "2022-12-14T08:41:53.158Z"
   },
   {
    "duration": 13,
    "start_time": "2022-12-14T08:42:07.680Z"
   },
   {
    "duration": 56579,
    "start_time": "2022-12-14T08:42:07.694Z"
   },
   {
    "duration": 2054,
    "start_time": "2022-12-14T09:01:15.480Z"
   },
   {
    "duration": 956,
    "start_time": "2022-12-14T09:01:17.536Z"
   },
   {
    "duration": 21,
    "start_time": "2022-12-14T09:01:18.494Z"
   },
   {
    "duration": 268,
    "start_time": "2022-12-14T09:01:18.517Z"
   },
   {
    "duration": 8,
    "start_time": "2022-12-14T09:01:18.787Z"
   },
   {
    "duration": 8,
    "start_time": "2022-12-14T09:01:18.796Z"
   },
   {
    "duration": 104965,
    "start_time": "2022-12-14T09:01:18.806Z"
   },
   {
    "duration": 2,
    "start_time": "2022-12-14T09:03:03.774Z"
   },
   {
    "duration": 84,
    "start_time": "2022-12-14T09:03:03.778Z"
   },
   {
    "duration": 4,
    "start_time": "2022-12-14T09:03:03.864Z"
   },
   {
    "duration": 14266,
    "start_time": "2022-12-14T09:03:03.870Z"
   },
   {
    "duration": 13,
    "start_time": "2022-12-14T09:03:18.138Z"
   },
   {
    "duration": 55010,
    "start_time": "2022-12-14T09:03:18.155Z"
   },
   {
    "duration": 154,
    "start_time": "2022-12-14T09:04:13.166Z"
   },
   {
    "duration": 0,
    "start_time": "2022-12-14T09:04:13.322Z"
   },
   {
    "duration": 13,
    "start_time": "2022-12-14T09:04:19.072Z"
   },
   {
    "duration": 4,
    "start_time": "2022-12-14T09:04:27.150Z"
   },
   {
    "duration": 14,
    "start_time": "2022-12-14T09:04:32.823Z"
   },
   {
    "duration": 5,
    "start_time": "2022-12-14T09:05:38.023Z"
   },
   {
    "duration": 346874,
    "start_time": "2022-12-14T09:05:41.807Z"
   },
   {
    "duration": 334670,
    "start_time": "2022-12-14T09:19:29.072Z"
   },
   {
    "duration": 43,
    "start_time": "2022-12-14T09:25:11.049Z"
   },
   {
    "duration": 491704,
    "start_time": "2022-12-14T09:27:24.185Z"
   },
   {
    "duration": 0,
    "start_time": "2022-12-14T09:35:35.891Z"
   },
   {
    "duration": 41,
    "start_time": "2022-12-14T09:41:12.721Z"
   },
   {
    "duration": 1635,
    "start_time": "2022-12-14T09:51:09.631Z"
   },
   {
    "duration": 995,
    "start_time": "2022-12-14T09:51:11.268Z"
   },
   {
    "duration": 22,
    "start_time": "2022-12-14T09:51:12.267Z"
   },
   {
    "duration": 4,
    "start_time": "2022-12-14T09:51:12.291Z"
   },
   {
    "duration": 5,
    "start_time": "2022-12-14T09:51:12.296Z"
   },
   {
    "duration": 8,
    "start_time": "2022-12-14T09:51:12.302Z"
   },
   {
    "duration": 115134,
    "start_time": "2022-12-14T09:51:12.312Z"
   },
   {
    "duration": 3,
    "start_time": "2022-12-14T09:53:07.456Z"
   },
   {
    "duration": 95,
    "start_time": "2022-12-14T09:53:07.463Z"
   },
   {
    "duration": 3,
    "start_time": "2022-12-14T09:53:07.560Z"
   },
   {
    "duration": 14512,
    "start_time": "2022-12-14T09:53:07.565Z"
   },
   {
    "duration": 13,
    "start_time": "2022-12-14T09:53:22.079Z"
   },
   {
    "duration": 54872,
    "start_time": "2022-12-14T09:53:22.095Z"
   },
   {
    "duration": 1717,
    "start_time": "2022-12-14T09:57:13.610Z"
   },
   {
    "duration": 1009,
    "start_time": "2022-12-14T09:57:15.329Z"
   },
   {
    "duration": 24,
    "start_time": "2022-12-14T09:57:16.340Z"
   },
   {
    "duration": 5,
    "start_time": "2022-12-14T09:57:16.366Z"
   },
   {
    "duration": 8,
    "start_time": "2022-12-14T09:57:16.373Z"
   },
   {
    "duration": 19,
    "start_time": "2022-12-14T09:57:16.385Z"
   },
   {
    "duration": 116119,
    "start_time": "2022-12-14T09:57:16.406Z"
   },
   {
    "duration": 2,
    "start_time": "2022-12-14T09:59:12.527Z"
   },
   {
    "duration": 86,
    "start_time": "2022-12-14T09:59:12.531Z"
   },
   {
    "duration": 4,
    "start_time": "2022-12-14T09:59:12.620Z"
   },
   {
    "duration": 14838,
    "start_time": "2022-12-14T09:59:12.625Z"
   },
   {
    "duration": 14,
    "start_time": "2022-12-14T09:59:27.465Z"
   },
   {
    "duration": 57983,
    "start_time": "2022-12-14T09:59:27.481Z"
   },
   {
    "duration": 440887,
    "start_time": "2022-12-14T10:00:25.466Z"
   },
   {
    "duration": 47,
    "start_time": "2022-12-14T10:07:46.355Z"
   },
   {
    "duration": 1373542,
    "start_time": "2022-12-14T10:07:46.403Z"
   },
   {
    "duration": 227,
    "start_time": "2022-12-14T10:30:39.948Z"
   },
   {
    "duration": 144,
    "start_time": "2022-12-14T10:30:40.176Z"
   },
   {
    "duration": 0,
    "start_time": "2022-12-14T10:30:40.322Z"
   },
   {
    "duration": 0,
    "start_time": "2022-12-14T10:30:40.323Z"
   },
   {
    "duration": 13,
    "start_time": "2022-12-14T10:31:22.306Z"
   },
   {
    "duration": 352175,
    "start_time": "2022-12-14T10:31:33.009Z"
   },
   {
    "duration": 15,
    "start_time": "2022-12-14T10:37:25.186Z"
   },
   {
    "duration": 460,
    "start_time": "2022-12-14T10:38:53.011Z"
   },
   {
    "duration": 1585769,
    "start_time": "2022-12-14T10:39:50.922Z"
   },
   {
    "duration": 2316,
    "start_time": "2022-12-14T11:06:16.692Z"
   },
   {
    "duration": 8168632,
    "start_time": "2022-12-14T11:07:35.444Z"
   },
   {
    "duration": 4581,
    "start_time": "2022-12-14T13:23:44.078Z"
   },
   {
    "duration": 20,
    "start_time": "2022-12-14T13:24:55.074Z"
   },
   {
    "duration": 59229,
    "start_time": "2022-12-14T13:29:36.036Z"
   },
   {
    "duration": 4,
    "start_time": "2022-12-14T13:31:53.561Z"
   },
   {
    "duration": 27,
    "start_time": "2022-12-14T13:59:22.841Z"
   },
   {
    "duration": 1660,
    "start_time": "2022-12-14T13:59:32.881Z"
   },
   {
    "duration": 1083,
    "start_time": "2022-12-14T13:59:34.543Z"
   },
   {
    "duration": 31,
    "start_time": "2022-12-14T13:59:35.628Z"
   },
   {
    "duration": 3,
    "start_time": "2022-12-14T13:59:36.866Z"
   },
   {
    "duration": 3,
    "start_time": "2022-12-14T13:59:37.105Z"
   },
   {
    "duration": 2,
    "start_time": "2022-12-14T13:59:37.457Z"
   },
   {
    "duration": 109857,
    "start_time": "2022-12-14T13:59:41.913Z"
   },
   {
    "duration": 3,
    "start_time": "2022-12-14T14:01:39.396Z"
   },
   {
    "duration": 73,
    "start_time": "2022-12-14T14:01:39.713Z"
   },
   {
    "duration": 3,
    "start_time": "2022-12-14T14:01:41.209Z"
   },
   {
    "duration": 27601,
    "start_time": "2022-12-14T14:01:42.090Z"
   },
   {
    "duration": 13,
    "start_time": "2022-12-14T14:03:31.218Z"
   },
   {
    "duration": 1740,
    "start_time": "2022-12-14T14:03:44.530Z"
   },
   {
    "duration": 1060,
    "start_time": "2022-12-14T14:03:46.272Z"
   },
   {
    "duration": 37,
    "start_time": "2022-12-14T14:03:47.334Z"
   },
   {
    "duration": 4,
    "start_time": "2022-12-14T14:03:47.373Z"
   },
   {
    "duration": 5,
    "start_time": "2022-12-14T14:03:47.379Z"
   },
   {
    "duration": 5,
    "start_time": "2022-12-14T14:03:47.386Z"
   },
   {
    "duration": 109780,
    "start_time": "2022-12-14T14:03:47.393Z"
   },
   {
    "duration": 2,
    "start_time": "2022-12-14T14:05:37.175Z"
   },
   {
    "duration": 87,
    "start_time": "2022-12-14T14:05:37.179Z"
   },
   {
    "duration": 4,
    "start_time": "2022-12-14T14:05:37.268Z"
   },
   {
    "duration": 30848,
    "start_time": "2022-12-14T14:06:13.167Z"
   },
   {
    "duration": 75,
    "start_time": "2022-12-14T20:50:52.173Z"
   },
   {
    "duration": 1550,
    "start_time": "2022-12-14T20:50:56.477Z"
   },
   {
    "duration": 3882,
    "start_time": "2022-12-14T20:50:58.029Z"
   },
   {
    "duration": 23,
    "start_time": "2022-12-14T20:51:01.913Z"
   },
   {
    "duration": 22,
    "start_time": "2022-12-14T20:51:01.939Z"
   },
   {
    "duration": 38,
    "start_time": "2022-12-14T20:51:01.964Z"
   },
   {
    "duration": 35,
    "start_time": "2022-12-14T20:51:02.005Z"
   },
   {
    "duration": 115162,
    "start_time": "2022-12-14T20:51:02.042Z"
   },
   {
    "duration": 28,
    "start_time": "2022-12-14T20:52:57.206Z"
   },
   {
    "duration": 82,
    "start_time": "2022-12-14T20:52:57.236Z"
   },
   {
    "duration": 4,
    "start_time": "2022-12-14T20:52:57.321Z"
   },
   {
    "duration": 26737,
    "start_time": "2022-12-14T20:52:57.326Z"
   },
   {
    "duration": 3,
    "start_time": "2022-12-14T20:56:39.456Z"
   },
   {
    "duration": 4,
    "start_time": "2022-12-14T21:07:53.107Z"
   },
   {
    "duration": 5,
    "start_time": "2022-12-14T21:09:50.398Z"
   },
   {
    "duration": 1582,
    "start_time": "2022-12-15T21:28:41.295Z"
   },
   {
    "duration": 1311,
    "start_time": "2022-12-15T21:28:42.879Z"
   },
   {
    "duration": 20,
    "start_time": "2022-12-15T21:28:44.193Z"
   },
   {
    "duration": 12,
    "start_time": "2022-12-15T21:28:44.215Z"
   },
   {
    "duration": 8,
    "start_time": "2022-12-15T21:28:44.230Z"
   },
   {
    "duration": 21,
    "start_time": "2022-12-15T21:28:44.240Z"
   },
   {
    "duration": 101804,
    "start_time": "2022-12-15T21:28:44.263Z"
   },
   {
    "duration": 2,
    "start_time": "2022-12-15T21:30:26.069Z"
   },
   {
    "duration": 82,
    "start_time": "2022-12-15T21:30:26.073Z"
   },
   {
    "duration": 3,
    "start_time": "2022-12-15T21:30:26.157Z"
   },
   {
    "duration": 27200,
    "start_time": "2022-12-15T21:30:26.162Z"
   },
   {
    "duration": 4,
    "start_time": "2022-12-15T21:30:53.364Z"
   },
   {
    "duration": 10,
    "start_time": "2022-12-15T21:30:53.370Z"
   },
   {
    "duration": 19,
    "start_time": "2022-12-15T21:30:53.382Z"
   },
   {
    "duration": 50041,
    "start_time": "2022-12-15T21:30:53.403Z"
   },
   {
    "duration": 404699,
    "start_time": "2022-12-15T21:31:43.446Z"
   },
   {
    "duration": 45,
    "start_time": "2022-12-15T21:38:28.147Z"
   },
   {
    "duration": 1216665,
    "start_time": "2022-12-15T21:38:28.194Z"
   },
   {
    "duration": 210,
    "start_time": "2022-12-15T21:58:44.861Z"
   },
   {
    "duration": 2960292,
    "start_time": "2022-12-15T21:58:45.073Z"
   },
   {
    "duration": 2198,
    "start_time": "2022-12-15T22:48:05.367Z"
   },
   {
    "duration": 2188831,
    "start_time": "2022-12-15T22:48:07.567Z"
   },
   {
    "duration": 4490,
    "start_time": "2022-12-15T23:24:36.400Z"
   },
   {
    "duration": 46,
    "start_time": "2022-12-15T23:24:40.892Z"
   },
   {
    "duration": 1869,
    "start_time": "2022-12-16T04:32:34.545Z"
   },
   {
    "duration": 1249,
    "start_time": "2022-12-16T04:32:36.417Z"
   },
   {
    "duration": 21,
    "start_time": "2022-12-16T04:32:37.668Z"
   },
   {
    "duration": 18,
    "start_time": "2022-12-16T04:32:37.691Z"
   },
   {
    "duration": 37,
    "start_time": "2022-12-16T04:32:37.711Z"
   },
   {
    "duration": 33,
    "start_time": "2022-12-16T04:32:37.750Z"
   },
   {
    "duration": 112356,
    "start_time": "2022-12-16T04:32:37.784Z"
   },
   {
    "duration": 5,
    "start_time": "2022-12-16T04:34:30.142Z"
   },
   {
    "duration": 135,
    "start_time": "2022-12-16T04:34:30.149Z"
   },
   {
    "duration": 4,
    "start_time": "2022-12-16T04:34:30.287Z"
   },
   {
    "duration": 29330,
    "start_time": "2022-12-16T04:34:30.293Z"
   },
   {
    "duration": 6,
    "start_time": "2022-12-16T04:34:59.624Z"
   },
   {
    "duration": 13,
    "start_time": "2022-12-16T04:34:59.631Z"
   },
   {
    "duration": 30,
    "start_time": "2022-12-16T04:34:59.646Z"
   },
   {
    "duration": 55745,
    "start_time": "2022-12-16T04:34:59.677Z"
   },
   {
    "duration": 226,
    "start_time": "2022-12-16T04:35:55.424Z"
   },
   {
    "duration": 0,
    "start_time": "2022-12-16T04:35:55.651Z"
   },
   {
    "duration": 0,
    "start_time": "2022-12-16T04:35:55.652Z"
   },
   {
    "duration": 0,
    "start_time": "2022-12-16T04:35:55.654Z"
   },
   {
    "duration": 0,
    "start_time": "2022-12-16T04:35:55.655Z"
   },
   {
    "duration": 0,
    "start_time": "2022-12-16T04:35:55.656Z"
   },
   {
    "duration": 0,
    "start_time": "2022-12-16T04:35:55.657Z"
   },
   {
    "duration": 0,
    "start_time": "2022-12-16T04:35:55.659Z"
   },
   {
    "duration": 0,
    "start_time": "2022-12-16T04:35:55.660Z"
   },
   {
    "duration": 0,
    "start_time": "2022-12-16T04:35:55.661Z"
   },
   {
    "duration": 0,
    "start_time": "2022-12-16T04:35:55.662Z"
   },
   {
    "duration": 0,
    "start_time": "2022-12-16T04:35:55.663Z"
   },
   {
    "duration": 3,
    "start_time": "2022-12-16T04:39:58.414Z"
   },
   {
    "duration": 66,
    "start_time": "2022-12-16T04:39:59.701Z"
   },
   {
    "duration": 374960,
    "start_time": "2022-12-16T04:40:05.068Z"
   },
   {
    "duration": 41,
    "start_time": "2022-12-16T04:46:20.030Z"
   },
   {
    "duration": 137930,
    "start_time": "2022-12-16T04:46:20.072Z"
   },
   {
    "duration": 0,
    "start_time": "2022-12-16T04:48:38.004Z"
   },
   {
    "duration": 0,
    "start_time": "2022-12-16T04:48:38.005Z"
   },
   {
    "duration": 0,
    "start_time": "2022-12-16T04:48:38.013Z"
   },
   {
    "duration": 0,
    "start_time": "2022-12-16T04:48:38.014Z"
   },
   {
    "duration": 0,
    "start_time": "2022-12-16T04:48:38.015Z"
   },
   {
    "duration": 0,
    "start_time": "2022-12-16T04:48:38.016Z"
   },
   {
    "duration": 0,
    "start_time": "2022-12-16T04:48:38.017Z"
   },
   {
    "duration": 5567379,
    "start_time": "2022-12-16T04:48:48.598Z"
   },
   {
    "duration": 5527,
    "start_time": "2022-12-16T06:21:36.012Z"
   },
   {
    "duration": 1498805,
    "start_time": "2022-12-16T06:26:39.138Z"
   },
   {
    "duration": 7199,
    "start_time": "2022-12-16T07:13:49.073Z"
   },
   {
    "duration": 2387735,
    "start_time": "2022-12-16T07:15:17.321Z"
   },
   {
    "duration": 10147,
    "start_time": "2022-12-16T08:47:58.686Z"
   },
   {
    "duration": 3011300,
    "start_time": "2022-12-16T08:52:17.537Z"
   },
   {
    "duration": 15390,
    "start_time": "2022-12-16T09:42:28.840Z"
   },
   {
    "duration": 1553,
    "start_time": "2022-12-16T13:01:33.545Z"
   },
   {
    "duration": 1292,
    "start_time": "2022-12-16T13:01:37.276Z"
   },
   {
    "duration": 18,
    "start_time": "2022-12-16T13:01:38.569Z"
   },
   {
    "duration": 15,
    "start_time": "2022-12-16T13:01:38.589Z"
   },
   {
    "duration": 15,
    "start_time": "2022-12-16T13:01:38.606Z"
   },
   {
    "duration": 16,
    "start_time": "2022-12-16T13:01:38.623Z"
   },
   {
    "duration": 99362,
    "start_time": "2022-12-16T13:01:38.641Z"
   },
   {
    "duration": 2,
    "start_time": "2022-12-16T13:03:18.006Z"
   },
   {
    "duration": 76,
    "start_time": "2022-12-16T13:03:18.010Z"
   },
   {
    "duration": 4,
    "start_time": "2022-12-16T13:03:18.088Z"
   },
   {
    "duration": 20455,
    "start_time": "2022-12-16T13:03:18.094Z"
   },
   {
    "duration": 4,
    "start_time": "2022-12-16T13:03:38.550Z"
   },
   {
    "duration": 159,
    "start_time": "2022-12-16T13:03:38.556Z"
   },
   {
    "duration": 1513,
    "start_time": "2022-12-16T17:13:15.532Z"
   },
   {
    "duration": 3801,
    "start_time": "2022-12-16T17:13:17.048Z"
   },
   {
    "duration": 19,
    "start_time": "2022-12-16T17:13:20.850Z"
   },
   {
    "duration": 5,
    "start_time": "2022-12-16T17:13:20.871Z"
   },
   {
    "duration": 5,
    "start_time": "2022-12-16T17:13:20.877Z"
   },
   {
    "duration": 4,
    "start_time": "2022-12-16T17:13:20.884Z"
   },
   {
    "duration": 96340,
    "start_time": "2022-12-16T17:13:20.889Z"
   },
   {
    "duration": 3,
    "start_time": "2022-12-16T17:14:57.230Z"
   },
   {
    "duration": 91,
    "start_time": "2022-12-16T17:14:57.235Z"
   },
   {
    "duration": 3,
    "start_time": "2022-12-16T17:14:57.330Z"
   },
   {
    "duration": 19781,
    "start_time": "2022-12-16T17:14:57.335Z"
   },
   {
    "duration": 4,
    "start_time": "2022-12-16T17:15:17.121Z"
   },
   {
    "duration": 168,
    "start_time": "2022-12-16T17:15:17.127Z"
   },
   {
    "duration": 0,
    "start_time": "2022-12-16T17:15:17.297Z"
   },
   {
    "duration": 0,
    "start_time": "2022-12-16T17:15:17.299Z"
   },
   {
    "duration": 0,
    "start_time": "2022-12-16T17:15:17.300Z"
   },
   {
    "duration": 0,
    "start_time": "2022-12-16T17:15:17.302Z"
   },
   {
    "duration": 0,
    "start_time": "2022-12-16T17:15:17.303Z"
   },
   {
    "duration": 0,
    "start_time": "2022-12-16T17:15:17.305Z"
   },
   {
    "duration": 0,
    "start_time": "2022-12-16T17:15:17.306Z"
   },
   {
    "duration": 0,
    "start_time": "2022-12-16T17:15:17.323Z"
   },
   {
    "duration": 0,
    "start_time": "2022-12-16T17:15:17.324Z"
   },
   {
    "duration": 0,
    "start_time": "2022-12-16T17:15:17.326Z"
   },
   {
    "duration": 0,
    "start_time": "2022-12-16T17:15:17.327Z"
   },
   {
    "duration": 0,
    "start_time": "2022-12-16T17:15:17.329Z"
   },
   {
    "duration": 0,
    "start_time": "2022-12-16T17:15:17.330Z"
   },
   {
    "duration": 0,
    "start_time": "2022-12-16T17:15:17.332Z"
   },
   {
    "duration": 1454,
    "start_time": "2022-12-16T17:15:41.471Z"
   },
   {
    "duration": 876,
    "start_time": "2022-12-16T17:15:42.927Z"
   },
   {
    "duration": 24,
    "start_time": "2022-12-16T17:15:43.805Z"
   },
   {
    "duration": 3,
    "start_time": "2022-12-16T17:15:43.832Z"
   },
   {
    "duration": 5,
    "start_time": "2022-12-16T17:15:43.837Z"
   },
   {
    "duration": 5,
    "start_time": "2022-12-16T17:15:43.843Z"
   },
   {
    "duration": 96742,
    "start_time": "2022-12-16T17:15:43.849Z"
   },
   {
    "duration": 3,
    "start_time": "2022-12-16T17:17:20.593Z"
   },
   {
    "duration": 91,
    "start_time": "2022-12-16T17:17:20.598Z"
   },
   {
    "duration": 4,
    "start_time": "2022-12-16T17:17:20.692Z"
   },
   {
    "duration": 19165,
    "start_time": "2022-12-16T17:17:20.697Z"
   },
   {
    "duration": 4,
    "start_time": "2022-12-16T17:17:39.864Z"
   },
   {
    "duration": 19,
    "start_time": "2022-12-16T17:17:39.869Z"
   },
   {
    "duration": 6,
    "start_time": "2022-12-16T17:17:39.889Z"
   },
   {
    "duration": 46026,
    "start_time": "2022-12-16T17:17:39.897Z"
   },
   {
    "duration": 69,
    "start_time": "2022-12-16T17:18:25.925Z"
   },
   {
    "duration": 373952,
    "start_time": "2022-12-16T17:18:25.996Z"
   },
   {
    "duration": 43,
    "start_time": "2022-12-16T17:24:39.949Z"
   },
   {
    "duration": 1099371,
    "start_time": "2022-12-16T17:24:39.994Z"
   },
   {
    "duration": 214,
    "start_time": "2022-12-16T17:42:59.366Z"
   },
   {
    "duration": 1128375,
    "start_time": "2022-12-16T17:42:59.582Z"
   },
   {
    "duration": 2108,
    "start_time": "2022-12-16T18:01:47.958Z"
   },
   {
    "duration": 2112106,
    "start_time": "2022-12-16T18:01:50.068Z"
   },
   {
    "duration": 4095,
    "start_time": "2022-12-16T18:37:02.176Z"
   },
   {
    "duration": 48,
    "start_time": "2022-12-17T07:08:22.640Z"
   },
   {
    "duration": 1512,
    "start_time": "2022-12-17T07:08:30.143Z"
   },
   {
    "duration": 1215,
    "start_time": "2022-12-17T07:08:31.657Z"
   },
   {
    "duration": 21,
    "start_time": "2022-12-17T07:08:32.873Z"
   },
   {
    "duration": 7,
    "start_time": "2022-12-17T07:08:32.895Z"
   },
   {
    "duration": 4,
    "start_time": "2022-12-17T07:08:32.904Z"
   },
   {
    "duration": 9,
    "start_time": "2022-12-17T07:08:32.910Z"
   },
   {
    "duration": 99571,
    "start_time": "2022-12-17T07:08:32.921Z"
   },
   {
    "duration": 2,
    "start_time": "2022-12-17T07:10:12.494Z"
   },
   {
    "duration": 64,
    "start_time": "2022-12-17T07:10:12.512Z"
   },
   {
    "duration": 4,
    "start_time": "2022-12-17T07:10:12.579Z"
   },
   {
    "duration": 19079,
    "start_time": "2022-12-17T07:10:12.585Z"
   },
   {
    "duration": 14,
    "start_time": "2022-12-17T07:10:31.665Z"
   },
   {
    "duration": 9,
    "start_time": "2022-12-17T07:10:31.680Z"
   },
   {
    "duration": 1240761,
    "start_time": "2022-12-17T07:10:31.691Z"
   },
   {
    "duration": 0,
    "start_time": "2022-12-17T07:31:12.455Z"
   },
   {
    "duration": 1632,
    "start_time": "2022-12-17T07:31:24.896Z"
   },
   {
    "duration": 931,
    "start_time": "2022-12-17T07:31:26.531Z"
   },
   {
    "duration": 20,
    "start_time": "2022-12-17T07:31:27.464Z"
   },
   {
    "duration": 112655,
    "start_time": "2022-12-17T07:33:59.315Z"
   },
   {
    "duration": 65,
    "start_time": "2022-12-17T07:39:18.952Z"
   },
   {
    "duration": 4,
    "start_time": "2022-12-17T07:39:19.312Z"
   },
   {
    "duration": 21077,
    "start_time": "2022-12-17T07:39:19.640Z"
   },
   {
    "duration": 14,
    "start_time": "2022-12-17T07:39:40.720Z"
   },
   {
    "duration": 16,
    "start_time": "2022-12-17T07:39:40.736Z"
   },
   {
    "duration": 19,
    "start_time": "2022-12-17T07:39:40.755Z"
   },
   {
    "duration": 62211,
    "start_time": "2022-12-17T07:39:40.776Z"
   },
   {
    "duration": 393448,
    "start_time": "2022-12-17T07:43:11.321Z"
   },
   {
    "duration": 42,
    "start_time": "2022-12-17T07:49:44.771Z"
   },
   {
    "duration": 163,
    "start_time": "2022-12-17T07:53:16.265Z"
   },
   {
    "duration": 1159598,
    "start_time": "2022-12-17T07:53:23.560Z"
   },
   {
    "duration": 1604,
    "start_time": "2022-12-17T08:26:18.696Z"
   },
   {
    "duration": 898,
    "start_time": "2022-12-17T08:26:20.302Z"
   },
   {
    "duration": 26,
    "start_time": "2022-12-17T08:26:21.203Z"
   },
   {
    "duration": 102632,
    "start_time": "2022-12-17T08:26:21.231Z"
   },
   {
    "duration": 75,
    "start_time": "2022-12-17T08:28:03.865Z"
   },
   {
    "duration": 4,
    "start_time": "2022-12-17T08:28:03.942Z"
   },
   {
    "duration": 20127,
    "start_time": "2022-12-17T08:28:03.948Z"
   },
   {
    "duration": 14,
    "start_time": "2022-12-17T08:28:24.077Z"
   },
   {
    "duration": 7,
    "start_time": "2022-12-17T08:28:24.093Z"
   },
   {
    "duration": 5,
    "start_time": "2022-12-17T08:28:24.112Z"
   },
   {
    "duration": 46554,
    "start_time": "2022-12-17T08:28:24.119Z"
   },
   {
    "duration": 396629,
    "start_time": "2022-12-17T08:29:10.675Z"
   },
   {
    "duration": 2535458,
    "start_time": "2022-12-17T08:35:47.306Z"
   },
   {
    "duration": 19045880,
    "start_time": "2022-12-17T09:18:02.766Z"
   },
   {
    "duration": 180,
    "start_time": "2022-12-17T14:35:28.648Z"
   },
   {
    "duration": 13,
    "start_time": "2022-12-17T14:35:53.954Z"
   },
   {
    "duration": 8606,
    "start_time": "2022-12-18T04:21:26.492Z"
   },
   {
    "duration": 1175,
    "start_time": "2022-12-18T04:21:49.721Z"
   },
   {
    "duration": 20,
    "start_time": "2022-12-18T04:21:50.898Z"
   },
   {
    "duration": 352,
    "start_time": "2022-12-18T04:22:53.130Z"
   },
   {
    "duration": 8021,
    "start_time": "2022-12-18T04:23:29.536Z"
   },
   {
    "duration": 5,
    "start_time": "2022-12-18T04:23:42.306Z"
   },
   {
    "duration": 64,
    "start_time": "2022-12-18T04:23:45.962Z"
   },
   {
    "duration": 644,
    "start_time": "2022-12-18T04:26:51.545Z"
   },
   {
    "duration": 482,
    "start_time": "2022-12-18T04:27:52.839Z"
   },
   {
    "duration": 78241,
    "start_time": "2022-12-18T04:28:09.827Z"
   },
   {
    "duration": 11822,
    "start_time": "2022-12-18T04:29:45.275Z"
   },
   {
    "duration": 8271,
    "start_time": "2022-12-18T04:30:19.811Z"
   },
   {
    "duration": 1140442,
    "start_time": "2022-12-18T04:31:17.083Z"
   },
   {
    "duration": 57,
    "start_time": "2022-12-18T05:02:57.491Z"
   },
   {
    "duration": 4,
    "start_time": "2022-12-18T05:02:58.267Z"
   },
   {
    "duration": 13667,
    "start_time": "2022-12-18T05:02:58.628Z"
   },
   {
    "duration": 18,
    "start_time": "2022-12-18T05:03:12.297Z"
   },
   {
    "duration": 3,
    "start_time": "2022-12-18T05:03:13.755Z"
   },
   {
    "duration": 5,
    "start_time": "2022-12-18T05:03:14.347Z"
   },
   {
    "duration": 63307,
    "start_time": "2022-12-18T05:03:16.763Z"
   },
   {
    "duration": 128668,
    "start_time": "2022-12-18T05:04:23.491Z"
   },
   {
    "duration": 3958,
    "start_time": "2022-12-18T08:46:36.519Z"
   },
   {
    "duration": 1268,
    "start_time": "2022-12-18T08:46:40.479Z"
   },
   {
    "duration": 21,
    "start_time": "2022-12-18T08:46:41.748Z"
   },
   {
    "duration": 1064951,
    "start_time": "2022-12-18T08:46:41.771Z"
   },
   {
    "duration": 5,
    "start_time": "2022-12-18T09:27:33.528Z"
   },
   {
    "duration": 6,
    "start_time": "2022-12-18T09:38:14.477Z"
   },
   {
    "duration": 307,
    "start_time": "2022-12-18T09:39:27.167Z"
   },
   {
    "duration": 16,
    "start_time": "2022-12-18T09:39:40.260Z"
   },
   {
    "duration": 53,
    "start_time": "2022-12-18T09:39:46.643Z"
   },
   {
    "duration": 3,
    "start_time": "2022-12-18T09:39:47.211Z"
   },
   {
    "duration": 12841,
    "start_time": "2022-12-18T09:39:48.014Z"
   },
   {
    "duration": 15,
    "start_time": "2022-12-18T09:40:02.804Z"
   },
   {
    "duration": 3,
    "start_time": "2022-12-18T09:40:07.200Z"
   },
   {
    "duration": 4,
    "start_time": "2022-12-18T09:40:07.414Z"
   },
   {
    "duration": 259435,
    "start_time": "2022-12-18T09:50:16.822Z"
   },
   {
    "duration": 4,
    "start_time": "2022-12-18T10:24:39.201Z"
   },
   {
    "duration": 4,
    "start_time": "2022-12-18T11:50:19.475Z"
   },
   {
    "duration": 3,
    "start_time": "2022-12-18T11:52:57.796Z"
   },
   {
    "duration": 3913,
    "start_time": "2022-12-18T11:55:26.634Z"
   },
   {
    "duration": 824,
    "start_time": "2022-12-18T11:55:30.550Z"
   },
   {
    "duration": 19,
    "start_time": "2022-12-18T11:55:31.375Z"
   },
   {
    "duration": 1097896,
    "start_time": "2022-12-18T11:55:32.204Z"
   },
   {
    "duration": 64,
    "start_time": "2022-12-18T12:13:50.102Z"
   },
   {
    "duration": 4,
    "start_time": "2022-12-18T12:40:12.807Z"
   },
   {
    "duration": 6609,
    "start_time": "2022-12-18T12:40:13.314Z"
   },
   {
    "duration": 6,
    "start_time": "2022-12-18T12:40:24.469Z"
   },
   {
    "duration": 3,
    "start_time": "2022-12-18T12:40:28.011Z"
   },
   {
    "duration": 4,
    "start_time": "2022-12-18T12:40:28.406Z"
   },
   {
    "duration": 3,
    "start_time": "2022-12-18T12:40:35.525Z"
   },
   {
    "duration": 316,
    "start_time": "2022-12-18T12:40:37.806Z"
   },
   {
    "duration": 315545,
    "start_time": "2022-12-18T12:41:06.534Z"
   },
   {
    "duration": 3,
    "start_time": "2022-12-18T12:51:41.566Z"
   },
   {
    "duration": 46,
    "start_time": "2022-12-18T12:51:46.238Z"
   },
   {
    "duration": 397788,
    "start_time": "2022-12-18T12:52:15.723Z"
   },
   {
    "duration": 30,
    "start_time": "2022-12-18T13:00:44.812Z"
   },
   {
    "duration": 26,
    "start_time": "2022-12-18T13:03:28.694Z"
   },
   {
    "duration": 4,
    "start_time": "2022-12-18T13:03:36.829Z"
   },
   {
    "duration": 60,
    "start_time": "2022-12-18T13:05:18.312Z"
   },
   {
    "duration": 3569026,
    "start_time": "2022-12-18T13:05:32.453Z"
   },
   {
    "duration": 10,
    "start_time": "2022-12-18T14:06:50.760Z"
   },
   {
    "duration": 3882,
    "start_time": "2022-12-18T14:07:14.682Z"
   },
   {
    "duration": 795,
    "start_time": "2022-12-18T14:07:18.566Z"
   },
   {
    "duration": 18,
    "start_time": "2022-12-18T14:07:19.362Z"
   },
   {
    "duration": 1081218,
    "start_time": "2022-12-18T14:07:19.383Z"
   },
   {
    "duration": 72,
    "start_time": "2022-12-18T14:25:20.602Z"
   },
   {
    "duration": 4,
    "start_time": "2022-12-18T14:25:20.675Z"
   },
   {
    "duration": 6505,
    "start_time": "2022-12-18T14:25:20.681Z"
   },
   {
    "duration": 6,
    "start_time": "2022-12-18T14:25:27.188Z"
   },
   {
    "duration": 7,
    "start_time": "2022-12-18T14:25:27.195Z"
   },
   {
    "duration": 7,
    "start_time": "2022-12-18T14:25:27.204Z"
   },
   {
    "duration": 22,
    "start_time": "2022-12-18T14:25:27.213Z"
   },
   {
    "duration": 10,
    "start_time": "2022-12-18T14:25:27.236Z"
   },
   {
    "duration": 335228,
    "start_time": "2022-12-18T14:25:27.248Z"
   },
   {
    "duration": 3,
    "start_time": "2022-12-18T14:31:02.477Z"
   },
   {
    "duration": 14,
    "start_time": "2022-12-18T14:31:02.481Z"
   },
   {
    "duration": 398157,
    "start_time": "2022-12-18T14:31:02.497Z"
   },
   {
    "duration": 2,
    "start_time": "2022-12-18T14:37:40.656Z"
   },
   {
    "duration": 2670688,
    "start_time": "2022-12-18T14:37:40.659Z"
   },
   {
    "duration": 2,
    "start_time": "2022-12-18T15:22:11.349Z"
   },
   {
    "duration": 26,
    "start_time": "2022-12-18T15:22:11.352Z"
   },
   {
    "duration": 321,
    "start_time": "2022-12-18T16:10:20.116Z"
   },
   {
    "duration": 19,
    "start_time": "2022-12-18T16:10:47.540Z"
   },
   {
    "duration": 23,
    "start_time": "2022-12-18T16:11:57.931Z"
   },
   {
    "duration": 20,
    "start_time": "2022-12-18T16:12:26.323Z"
   },
   {
    "duration": 3981,
    "start_time": "2022-12-18T16:14:39.899Z"
   },
   {
    "duration": 814,
    "start_time": "2022-12-18T16:14:43.882Z"
   },
   {
    "duration": 29,
    "start_time": "2022-12-18T16:14:44.701Z"
   },
   {
    "duration": 1111498,
    "start_time": "2022-12-18T16:14:44.732Z"
   },
   {
    "duration": 56,
    "start_time": "2022-12-18T16:33:16.235Z"
   },
   {
    "duration": 4,
    "start_time": "2022-12-18T16:33:16.292Z"
   },
   {
    "duration": 7343,
    "start_time": "2022-12-18T16:33:16.297Z"
   },
   {
    "duration": 6,
    "start_time": "2022-12-18T16:33:23.642Z"
   },
   {
    "duration": 5,
    "start_time": "2022-12-18T16:33:23.650Z"
   },
   {
    "duration": 6,
    "start_time": "2022-12-18T16:33:23.656Z"
   },
   {
    "duration": 10,
    "start_time": "2022-12-18T16:33:23.663Z"
   },
   {
    "duration": 9,
    "start_time": "2022-12-18T16:33:23.674Z"
   },
   {
    "duration": 341635,
    "start_time": "2022-12-18T16:33:23.685Z"
   },
   {
    "duration": 2,
    "start_time": "2022-12-18T16:39:05.323Z"
   },
   {
    "duration": 19,
    "start_time": "2022-12-18T16:39:05.327Z"
   },
   {
    "duration": 403646,
    "start_time": "2022-12-18T16:39:05.348Z"
   },
   {
    "duration": 3,
    "start_time": "2022-12-18T16:45:48.996Z"
   },
   {
    "duration": 3112386,
    "start_time": "2022-12-18T16:45:49.000Z"
   },
   {
    "duration": 32,
    "start_time": "2022-12-18T17:37:41.389Z"
   },
   {
    "duration": 10,
    "start_time": "2022-12-18T17:37:41.423Z"
   },
   {
    "duration": 352,
    "start_time": "2022-12-18T17:37:41.435Z"
   },
   {
    "duration": 137217,
    "start_time": "2022-12-18T17:40:20.505Z"
   },
   {
    "duration": 55,
    "start_time": "2022-12-18T18:46:56.957Z"
   },
   {
    "duration": 3898,
    "start_time": "2022-12-18T18:47:15.702Z"
   },
   {
    "duration": 794,
    "start_time": "2022-12-18T18:47:19.602Z"
   },
   {
    "duration": 26,
    "start_time": "2022-12-18T18:47:20.400Z"
   },
   {
    "duration": 1097980,
    "start_time": "2022-12-18T18:47:20.428Z"
   },
   {
    "duration": 64,
    "start_time": "2022-12-18T19:05:38.409Z"
   },
   {
    "duration": 3,
    "start_time": "2022-12-18T19:05:38.475Z"
   },
   {
    "duration": 7046,
    "start_time": "2022-12-18T19:05:38.480Z"
   },
   {
    "duration": 6,
    "start_time": "2022-12-18T19:05:45.528Z"
   },
   {
    "duration": 5,
    "start_time": "2022-12-18T19:05:45.537Z"
   },
   {
    "duration": 5,
    "start_time": "2022-12-18T19:05:45.543Z"
   },
   {
    "duration": 4,
    "start_time": "2022-12-18T19:05:45.550Z"
   },
   {
    "duration": 5,
    "start_time": "2022-12-18T19:05:45.556Z"
   },
   {
    "duration": 328023,
    "start_time": "2022-12-18T19:05:45.563Z"
   },
   {
    "duration": 2,
    "start_time": "2022-12-18T19:11:13.588Z"
   },
   {
    "duration": 7,
    "start_time": "2022-12-18T19:11:13.591Z"
   },
   {
    "duration": 403432,
    "start_time": "2022-12-18T19:11:13.599Z"
   },
   {
    "duration": 3,
    "start_time": "2022-12-18T19:17:57.032Z"
   },
   {
    "duration": 5225,
    "start_time": "2022-12-18T20:07:04.070Z"
   },
   {
    "duration": 3884,
    "start_time": "2022-12-18T20:07:09.297Z"
   },
   {
    "duration": 18,
    "start_time": "2022-12-18T20:07:13.184Z"
   },
   {
    "duration": 3991,
    "start_time": "2022-12-18T20:07:46.647Z"
   },
   {
    "duration": 805,
    "start_time": "2022-12-18T20:07:50.640Z"
   },
   {
    "duration": 20,
    "start_time": "2022-12-18T20:07:51.446Z"
   },
   {
    "duration": 1150199,
    "start_time": "2022-12-18T20:07:51.468Z"
   },
   {
    "duration": 74,
    "start_time": "2022-12-18T20:27:01.669Z"
   },
   {
    "duration": 20,
    "start_time": "2022-12-18T20:27:01.744Z"
   },
   {
    "duration": 7086,
    "start_time": "2022-12-18T20:27:01.766Z"
   },
   {
    "duration": 6,
    "start_time": "2022-12-18T20:27:08.853Z"
   },
   {
    "duration": 8,
    "start_time": "2022-12-18T20:27:08.860Z"
   },
   {
    "duration": 4,
    "start_time": "2022-12-18T20:27:08.871Z"
   },
   {
    "duration": 9,
    "start_time": "2022-12-18T20:27:08.877Z"
   },
   {
    "duration": 4,
    "start_time": "2022-12-18T20:27:08.888Z"
   },
   {
    "duration": 255320,
    "start_time": "2022-12-18T20:27:08.894Z"
   },
   {
    "duration": 5,
    "start_time": "2022-12-18T20:31:24.217Z"
   },
   {
    "duration": 32,
    "start_time": "2022-12-18T20:31:24.224Z"
   },
   {
    "duration": 439013,
    "start_time": "2022-12-18T20:31:24.258Z"
   },
   {
    "duration": 2,
    "start_time": "2022-12-18T20:38:43.273Z"
   },
   {
    "duration": 1765760,
    "start_time": "2022-12-18T20:38:43.277Z"
   },
   {
    "duration": 3,
    "start_time": "2022-12-18T21:08:09.038Z"
   },
   {
    "duration": 14,
    "start_time": "2022-12-18T21:08:09.042Z"
   },
   {
    "duration": 156078,
    "start_time": "2022-12-18T21:08:09.057Z"
   }
  ],
  "kernelspec": {
   "display_name": "Python 3 (ipykernel)",
   "language": "python",
   "name": "python3"
  },
  "language_info": {
   "codemirror_mode": {
    "name": "ipython",
    "version": 3
   },
   "file_extension": ".py",
   "mimetype": "text/x-python",
   "name": "python",
   "nbconvert_exporter": "python",
   "pygments_lexer": "ipython3",
   "version": "3.9.12"
  },
  "toc": {
   "base_numbering": 1,
   "nav_menu": {
    "height": "288px",
    "width": "393px"
   },
   "number_sections": true,
   "sideBar": true,
   "skip_h1_title": true,
   "title_cell": "Содержание",
   "title_sidebar": "Contents",
   "toc_cell": true,
   "toc_position": {
    "height": "calc(100% - 180px)",
    "left": "10px",
    "top": "150px",
    "width": "302.391px"
   },
   "toc_section_display": true,
   "toc_window_display": false
  }
 },
 "nbformat": 4,
 "nbformat_minor": 4
}
